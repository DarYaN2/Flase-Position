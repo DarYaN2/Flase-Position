{
  "nbformat": 4,
  "nbformat_minor": 0,
  "metadata": {
    "colab": {
      "provenance": [],
      "authorship_tag": "ABX9TyOD9kHWy2AWiBShe6iF9Th6",
      "include_colab_link": true
    },
    "kernelspec": {
      "name": "python3",
      "display_name": "Python 3"
    },
    "language_info": {
      "name": "python"
    }
  },
  "cells": [
    {
      "cell_type": "markdown",
      "metadata": {
        "id": "view-in-github",
        "colab_type": "text"
      },
      "source": [
        "<a href=\"https://colab.research.google.com/github/DarYaN2/Flase-Position/blob/main/falseposition.ipynb\" target=\"_parent\"><img src=\"https://colab.research.google.com/assets/colab-badge.svg\" alt=\"Open In Colab\"/></a>"
      ]
    },
    {
      "cell_type": "code",
      "execution_count": 1,
      "metadata": {
        "colab": {
          "base_uri": "https://localhost:8080/"
        },
        "id": "Qb8GUrRiSBbS",
        "outputId": "cf0ec0ae-1dbc-4d3a-c3a5-3e87150f4bd3"
      },
      "outputs": [
        {
          "output_type": "stream",
          "name": "stdout",
          "text": [
            "Enter the function in terms of 'x': x**3 - 2 * x - 5\n",
            "Enter the value of 'a': 2\n",
            "Enter the value of 'b': 3\n",
            "Iterations (iteration, a, b, c, f(a), f(b), f(c)):\n",
            "(1, 2.0, 3.0, 2.05882352941176, -1.00000000000000, 16.0000000000000, -0.390799918583353)\n",
            "(2, 2.05882352941176, 3.0, 2.08126365984502, -0.390799918583353, 16.0000000000000, -0.147204059553759)\n",
            "(3, 2.08126365984502, 3.0, 2.08963921009085, -0.147204059553759, 16.0000000000000, -0.0546765032732939)\n",
            "(4, 2.08963921009085, 3.0, 2.09273957431801, -0.0546765032732939, 16.0000000000000, -0.0202028663124612)\n",
            "(5, 2.09273957431801, 3.0, 2.09388370846185, -0.0202028663124612, 16.0000000000000, -0.00745050593819396)\n",
            "(6, 2.09388370846185, 3.0, 2.09430545112526, -0.00745050593819396, 16.0000000000000, -0.00274567283812921)\n",
            "(7, 2.09430545112526, 3.0, 2.09446084576649, -0.00274567283812921, 16.0000000000000, -0.00101157394932816)\n",
            "(8, 2.09446084576649, 3.0, 2.09451809338576, -0.00101157394932816, 16.0000000000000, -0.000372652825565645)\n",
            "(9, 2.09451809338576, 3.0, 2.09453918229402, -0.000372652825565645, 16.0000000000000, -0.000137276343549431)\n",
            "(10, 2.09453918229402, 3.0, 2.09454695087426, -0.000137276343549431, 16.0000000000000, -5.05686405354311e-5)\n",
            "(11, 2.09454695087426, 3.0, 2.09454981258582, -5.05686405354311e-5, 16.0000000000000, -1.86279365825825e-5)\n",
            "(12, 2.09454981258582, 3.0, 2.09455086675139, -1.86279365825825e-5, 16.0000000000000, -6.86194840771037e-6)\n",
            "(13, 2.09455086675139, 3.0, 2.09455125507280, -6.86194840771037e-6, 16.0000000000000, -2.52772521758260e-6)\n",
            "(14, 2.09455125507280, 3.0, 2.09455139811813, -2.52772521758260e-6, 16.0000000000000, -9.31133964598985e-7)\n"
          ]
        }
      ],
      "source": [
        "import sympy as sp\n",
        "\n",
        "def false_position(func, a, b, tol=1e-6, max_iter=100):\n",
        "    x = sp.symbols('x')\n",
        "    f = sp.sympify(func)\n",
        "\n",
        "    iterations = []\n",
        "    iteration = 1\n",
        "\n",
        "    fa = f.subs(x, a)\n",
        "    fb = f.subs(x, b)\n",
        "\n",
        "    if fa * fb >= 0:\n",
        "        return \"The function has the same sign at the endpoints. False Position method cannot be applied.\"\n",
        "\n",
        "    while iteration <= max_iter:\n",
        "        c = (a * fb - b * fa) / (fb - fa)\n",
        "        fc = f.subs(x, c)\n",
        "\n",
        "        iterations.append((iteration, a, b, c, fa, fb, fc))\n",
        "\n",
        "        if abs(fc) < tol:\n",
        "            return iterations\n",
        "\n",
        "        if fa * fc < 0:\n",
        "            b = c\n",
        "            fb = fc\n",
        "        else:\n",
        "            a = c\n",
        "            fa = fc\n",
        "\n",
        "        iteration += 1\n",
        "\n",
        "    return \"False Position method did not converge within the specified number of iterations.\"\n",
        "\n",
        "# Get user input for the function, interval [a, b]\n",
        "user_func = input(\"Enter the function in terms of 'x': \")\n",
        "a = float(input(\"Enter the value of 'a': \"))\n",
        "b = float(input(\"Enter the value of 'b': \"))\n",
        "\n",
        "iterations = false_position(user_func, a, b)\n",
        "\n",
        "# Display iterations\n",
        "if isinstance(iterations, str):\n",
        "    print(iterations)\n",
        "else:\n",
        "    print(\"Iterations (iteration, a, b, c, f(a), f(b), f(c)):\")\n",
        "    for iteration in iterations:\n",
        "        print(iteration)\n"
      ]
    }
  ]
}